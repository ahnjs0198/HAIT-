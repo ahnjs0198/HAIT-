{
 "cells": [
  {
   "cell_type": "code",
   "execution_count": 21,
   "metadata": {},
   "outputs": [],
   "source": [
    "import pandas as pd\n",
    "import numpy as  np\n",
    "import seaborn as sns\n",
    "import matplotlib.pyplot as plt\n",
    "% matplotlib inline\n",
    "\n",
    "titanic_train = pd.read_csv('titanic_train.csv')\n",
    "titanic_test = pd.read_csv('titanic_test.csv')\n"
   ]
  },
  {
   "cell_type": "code",
   "execution_count": 18,
   "metadata": {},
   "outputs": [],
   "source": [
    "# データーの前処理\n",
    "\n",
    "# label incodingでmaleを1にfemaleを0に取り換えて新しい項目Sex_encodedを作成する\n",
    "from sklearn import preprocessing\n",
    "input_labels = ['male', 'female']\n",
    "encoder = preprocessing.LabelEncoder()\n",
    "encoder.fit(input_labels)\n",
    "encoded_values = encoder.transform(titanic_train['Sex'])\n",
    "titanic_train['Sex_encoded'] = encoded_values\n",
    "\n",
    "#EmbarkedのC, Q, Sをそれぞれ1,2,3にマッピングする\n",
    "Embarked_mapping = {'C':1, 'Q':2, 'S':3}\n",
    "titanic_train['Embarked'] = titanic_train['Embarked'].map(Embarked_mapping)\n",
    "\n",
    "#Embarkedで欠損値を持っているのは２つのみなので、その２つを削除する。\n",
    "titanic_train = titanic_train.dropna(subset=['Embarked'])\n",
    "\n",
    "#Ageの欠損値を処理,回帰補完を行う\n",
    "titanic_train = titanic_train.interpolate(method='linear')\n",
    "\n",
    "#前処理したデータの内、データーが足りないCabinと乗客の生死を相関関係がほぼないName\n",
    "#とTicketを除きデーターセットを準備する\n",
    "X = titanic_train[['PassengerId','Pclass','Sex_encoded','Age', \n",
    "                   'SibSp','Parch','Fare','Embarked']]\n",
    "y = titanic_train[['Survived']]\n",
    "\n",
    "from sklearn.model_selection import train_test_split\n",
    "X_train, X_test, y_train, y_test = train_test_split(X, y, test_size=0.3, random_state=0)"
   ]
  },
  {
   "cell_type": "code",
   "execution_count": 19,
   "metadata": {},
   "outputs": [
    {
     "name": "stdout",
     "output_type": "stream",
     "text": [
      "adjusted R^2\n",
      "train : 0.416215\n",
      "test : 0.328656\n"
     ]
    }
   ],
   "source": [
    "#前処理が終わったデーターセットで線形回帰を行う\n",
    "from sklearn.linear_model import LinearRegression\n",
    "lr = LinearRegression()\n",
    "lr.fit(X_train, y_train)\n",
    "\n",
    "def adjusted(score, n_sample, n_features):\n",
    "    adjusted_score = 1 - (1 - score) * ((n_sample - 1) / (n_sample - n_features - 1))\n",
    "    return adjusted_score\n",
    "\n",
    "print('adjusted R^2')\n",
    "print('train : %3f' % adjusted(lr.score(X_train, y_train), len(y_train),2))\n",
    "print('test : %3f' % adjusted(lr.score(X_test, y_test), len(y_test),2))"
   ]
  },
  {
   "cell_type": "code",
   "execution_count": 39,
   "metadata": {},
   "outputs": [
    {
     "name": "stdout",
     "output_type": "stream",
     "text": [
      "adjusted R^2\n",
      "train : 0.414858\n",
      "test : 0.331733\n"
     ]
    }
   ],
   "source": [
    "#Ridge回帰を行う\n",
    "from sklearn.linear_model import Ridge\n",
    "model_ridge = Ridge(alpha=10) \n",
    "model_ridge.fit(X_train, y_train)\n",
    "\n",
    "def adjusted(score, n_sample, n_features):\n",
    "    adjusted_score = 1 - (1 - score) * ((n_sample - 1) / (n_sample - n_features - 1))\n",
    "    return adjusted_score\n",
    "\n",
    "print('adjusted R^2')\n",
    "print('train : %3f' % adjusted(model_ridge.score(X_train, y_train), len(y_train),2))\n",
    "print('test : %3f' % adjusted(model_ridge.score(X_test, y_test), len(y_test),2))"
   ]
  },
  {
   "cell_type": "code",
   "execution_count": 36,
   "metadata": {},
   "outputs": [
    {
     "name": "stdout",
     "output_type": "stream",
     "text": [
      "adjusted R^2\n",
      "train : 0.416177\n",
      "test : 0.329647\n"
     ]
    }
   ],
   "source": [
    "#Elastic Netモデルを使う\n",
    "from sklearn.linear_model import ElasticNet\n",
    "model_en= ElasticNet(alpha=0.001, l1_ratio=0.9) \n",
    "model_en.fit(X_train, y_train)\n",
    "\n",
    "def adjusted(score, n_sample, n_features):\n",
    "    adjusted_score = 1 - (1 - score) * ((n_sample - 1) / (n_sample - n_features - 1))\n",
    "    return adjusted_score\n",
    "\n",
    "print('adjusted R^2')\n",
    "print('train : %3f' % adjusted(model_en.score(X_train, y_train), len(y_train),2))\n",
    "print('test : %3f' % adjusted(model_en.score(X_test, y_test), len(y_test),2))"
   ]
  },
  {
   "cell_type": "code",
   "execution_count": null,
   "metadata": {
    "collapsed": true
   },
   "outputs": [],
   "source": []
  }
 ],
 "metadata": {
  "kernelspec": {
   "display_name": "Python 3",
   "language": "python",
   "name": "python3"
  },
  "language_info": {
   "codemirror_mode": {
    "name": "ipython",
    "version": 3
   },
   "file_extension": ".py",
   "mimetype": "text/x-python",
   "name": "python",
   "nbconvert_exporter": "python",
   "pygments_lexer": "ipython3",
   "version": "3.6.2"
  }
 },
 "nbformat": 4,
 "nbformat_minor": 2
}
