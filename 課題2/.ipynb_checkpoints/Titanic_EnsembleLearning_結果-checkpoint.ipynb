{
 "cells": [
  {
   "cell_type": "code",
   "execution_count": 1,
   "metadata": {
    "collapsed": true
   },
   "outputs": [],
   "source": [
    "import pandas as pd\n",
    "import numpy as  np\n",
    "import seaborn as sns\n",
    "import matplotlib.pyplot as plt\n",
    "% matplotlib inline\n",
    "import matplotlib.pyplot\n",
    "\n",
    "titanic_train = pd.read_csv('titanic_train.csv')\n",
    "titanic_test = pd.read_csv('titanic_test.csv')"
   ]
  },
  {
   "cell_type": "code",
   "execution_count": 2,
   "metadata": {
    "collapsed": true
   },
   "outputs": [],
   "source": [
    "# データーの前処理\n",
    "\n",
    "# label incodingでmaleを1にfemaleを0に取り換えて新しい項目Sex_encodedを作成する\n",
    "from sklearn import preprocessing\n",
    "input_labels = ['male', 'female']\n",
    "encoder = preprocessing.LabelEncoder()\n",
    "encoder.fit(input_labels)\n",
    "encoded_values = encoder.transform(titanic_train['Sex'])\n",
    "titanic_train['Sex_encoded'] = encoded_values\n",
    "\n",
    "#EmbarkedのC, Q, Sをそれぞれ1,2,3にマッピングする\n",
    "Embarked_mapping = {'C':1, 'Q':2, 'S':3}\n",
    "titanic_train['Embarked'] = titanic_train['Embarked'].map(Embarked_mapping)\n",
    "\n",
    "#Embarkedで欠損値を持っているのは２つのみなので、その２つを削除する。\n",
    "titanic_train = titanic_train.dropna(subset=['Embarked'])\n",
    "\n",
    "#Ageの欠損値を処理,回帰補完を行う\n",
    "titanic_train = titanic_train.interpolate(method='linear')\n",
    "\n",
    "#前処理したデータの内、データーが足りないCabinと乗客の生死を相関関係がほぼないName\n",
    "#とTicketを除きデーターセットを準備する\n",
    "X = titanic_train[['PassengerId','Pclass','Sex_encoded','Age', \n",
    "                   'SibSp','Parch','Fare','Embarked']]\n",
    "y = titanic_train[['Survived']]\n",
    "\n",
    "# 変数の標準化を実行\n",
    "from sklearn.preprocessing import StandardScaler\n",
    "ss = StandardScaler()\n",
    "X_std = ss.fit_transform(X) \n",
    "y_std = ss.fit_transform(y)"
   ]
  },
  {
   "cell_type": "code",
   "execution_count": null,
   "metadata": {
    "collapsed": true
   },
   "outputs": [],
   "source": []
  }
 ],
 "metadata": {
  "kernelspec": {
   "display_name": "Python 3",
   "language": "python",
   "name": "python3"
  },
  "language_info": {
   "codemirror_mode": {
    "name": "ipython",
    "version": 3
   },
   "file_extension": ".py",
   "mimetype": "text/x-python",
   "name": "python",
   "nbconvert_exporter": "python",
   "pygments_lexer": "ipython3",
   "version": "3.6.2"
  }
 },
 "nbformat": 4,
 "nbformat_minor": 2
}
