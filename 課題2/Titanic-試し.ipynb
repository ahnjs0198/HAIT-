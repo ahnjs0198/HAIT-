{
 "cells": [
  {
   "cell_type": "code",
   "execution_count": 229,
   "metadata": {},
   "outputs": [],
   "source": [
    "import pandas as pd\n",
    "import numpy as  np\n",
    "import seaborn as sns\n",
    "import matplotlib.pyplot as plt\n",
    "% matplotlib inline\n",
    "\n",
    "titanic_train = pd.read_csv('titanic_train.csv')\n",
    "titanic_test = pd.read_csv('titanic_test.csv')"
   ]
  },
  {
   "cell_type": "code",
   "execution_count": 211,
   "metadata": {},
   "outputs": [
    {
     "name": "stdout",
     "output_type": "stream",
     "text": [
      "   PassengerId  Survived  Pclass  \\\n",
      "0            1         0       3   \n",
      "1            2         1       1   \n",
      "2            3         1       3   \n",
      "3            4         1       1   \n",
      "4            5         0       3   \n",
      "5            6         0       3   \n",
      "6            7         0       1   \n",
      "7            8         0       3   \n",
      "8            9         1       3   \n",
      "9           10         1       2   \n",
      "\n",
      "                                                Name     Sex   Age  SibSp  \\\n",
      "0                            Braund, Mr. Owen Harris    male  22.0      1   \n",
      "1  Cumings, Mrs. John Bradley (Florence Briggs Th...  female  38.0      1   \n",
      "2                             Heikkinen, Miss. Laina  female  26.0      0   \n",
      "3       Futrelle, Mrs. Jacques Heath (Lily May Peel)  female  35.0      1   \n",
      "4                           Allen, Mr. William Henry    male  35.0      0   \n",
      "5                                   Moran, Mr. James    male   NaN      0   \n",
      "6                            McCarthy, Mr. Timothy J    male  54.0      0   \n",
      "7                     Palsson, Master. Gosta Leonard    male   2.0      3   \n",
      "8  Johnson, Mrs. Oscar W (Elisabeth Vilhelmina Berg)  female  27.0      0   \n",
      "9                Nasser, Mrs. Nicholas (Adele Achem)  female  14.0      1   \n",
      "\n",
      "   Parch            Ticket     Fare Cabin Embarked  \n",
      "0      0         A/5 21171   7.2500   NaN        S  \n",
      "1      0          PC 17599  71.2833   C85        C  \n",
      "2      0  STON/O2. 3101282   7.9250   NaN        S  \n",
      "3      0            113803  53.1000  C123        S  \n",
      "4      0            373450   8.0500   NaN        S  \n",
      "5      0            330877   8.4583   NaN        Q  \n",
      "6      0             17463  51.8625   E46        S  \n",
      "7      1            349909  21.0750   NaN        S  \n",
      "8      2            347742  11.1333   NaN        S  \n",
      "9      0            237736  30.0708   NaN        C  \n"
     ]
    }
   ],
   "source": [
    "print(titanic_train[:10])"
   ]
  },
  {
   "cell_type": "code",
   "execution_count": 212,
   "metadata": {},
   "outputs": [
    {
     "name": "stdout",
     "output_type": "stream",
     "text": [
      "   PassengerId  Pclass                                          Name     Sex  \\\n",
      "0          892       3                              Kelly, Mr. James    male   \n",
      "1          893       3              Wilkes, Mrs. James (Ellen Needs)  female   \n",
      "2          894       2                     Myles, Mr. Thomas Francis    male   \n",
      "3          895       3                              Wirz, Mr. Albert    male   \n",
      "4          896       3  Hirvonen, Mrs. Alexander (Helga E Lindqvist)  female   \n",
      "5          897       3                    Svensson, Mr. Johan Cervin    male   \n",
      "6          898       3                          Connolly, Miss. Kate  female   \n",
      "7          899       2                  Caldwell, Mr. Albert Francis    male   \n",
      "8          900       3     Abrahim, Mrs. Joseph (Sophie Halaut Easu)  female   \n",
      "9          901       3                       Davies, Mr. John Samuel    male   \n",
      "\n",
      "    Age  SibSp  Parch     Ticket     Fare Cabin Embarked  \n",
      "0  34.5      0      0     330911   7.8292   NaN        Q  \n",
      "1  47.0      1      0     363272   7.0000   NaN        S  \n",
      "2  62.0      0      0     240276   9.6875   NaN        Q  \n",
      "3  27.0      0      0     315154   8.6625   NaN        S  \n",
      "4  22.0      1      1    3101298  12.2875   NaN        S  \n",
      "5  14.0      0      0       7538   9.2250   NaN        S  \n",
      "6  30.0      0      0     330972   7.6292   NaN        Q  \n",
      "7  26.0      1      1     248738  29.0000   NaN        S  \n",
      "8  18.0      0      0       2657   7.2292   NaN        C  \n",
      "9  21.0      2      0  A/4 48871  24.1500   NaN        S  \n"
     ]
    }
   ],
   "source": [
    "print(titanic_test[:10])"
   ]
  },
  {
   "cell_type": "code",
   "execution_count": 197,
   "metadata": {},
   "outputs": [],
   "source": [
    "# titanic_testのデータには乗客の生死のデータが含まれていないので、titanic_trainのデータだけを用いモデルを\n",
    "# 作り、titanic_testのデータをそのモデルに入りその乗客の生死を推測して見る"
   ]
  },
  {
   "cell_type": "code",
   "execution_count": 213,
   "metadata": {},
   "outputs": [
    {
     "data": {
      "text/plain": [
       "Index(['PassengerId', 'Survived', 'Pclass', 'Name', 'Sex', 'Age', 'SibSp',\n",
       "       'Parch', 'Ticket', 'Fare', 'Cabin', 'Embarked'],\n",
       "      dtype='object')"
      ]
     },
     "execution_count": 213,
     "metadata": {},
     "output_type": "execute_result"
    }
   ],
   "source": [
    "titanic_train.columns"
   ]
  },
  {
   "cell_type": "code",
   "execution_count": 214,
   "metadata": {},
   "outputs": [
    {
     "name": "stdout",
     "output_type": "stream",
     "text": [
      "adjusted R^2\n",
      "train : 0.121226\n",
      "test : 0.133189\n"
     ]
    }
   ],
   "source": [
    "#回帰が出来ない項目を除きとりあえずの線形回帰を行なった。\n",
    "\n",
    "X = titanic_train[['PassengerId', \n",
    "                   'Pclass', \n",
    "                   #'Name', \n",
    "                   #'Sex', \n",
    "                   #'Age', \n",
    "                   'SibSp', \n",
    "                   'Parch', \n",
    "                   #'Ticket', \n",
    "                   'Fare', \n",
    "                   #'Cabin', \n",
    "                   #'Embarked'\n",
    "                  ]]\n",
    "y = titanic_train[['Survived']]\n",
    "\n",
    "from sklearn.model_selection import train_test_split\n",
    "X_train, X_test, y_train, y_test = train_test_split(X, y, test_size=0.3, random_state=0)\n",
    "\n",
    "from sklearn.linear_model import LinearRegression\n",
    "lr = LinearRegression()\n",
    "lr.fit(X_train, y_train)\n",
    "\n",
    "def adjusted(score, n_sample, n_features):\n",
    "    adjusted_score = 1 - (1 - score) * ((n_sample - 1) / (n_sample - n_features - 1))\n",
    "    return adjusted_score\n",
    "\n",
    "print('adjusted R^2')\n",
    "print('train : %3f' % adjusted(lr.score(X_train, y_train), len(y_train),2))\n",
    "print('test : %3f' % adjusted(lr.score(X_test, y_test), len(y_test),2))"
   ]
  },
  {
   "cell_type": "code",
   "execution_count": 215,
   "metadata": {},
   "outputs": [
    {
     "name": "stdout",
     "output_type": "stream",
     "text": [
      "      Sex  Sex_encoded\n",
      "0    male            1\n",
      "1  female            0\n",
      "2  female            0\n",
      "3  female            0\n",
      "4    male            1\n",
      "5    male            1\n",
      "6    male            1\n",
      "7    male            1\n",
      "8  female            0\n",
      "9  female            0\n"
     ]
    }
   ],
   "source": [
    "# label incoding\n",
    "# maleを1にfemaleを0に取り換えて新しい項目Sex_encodedを作成する\n",
    "from sklearn import preprocessing\n",
    "input_labels = ['male', 'female']\n",
    "\n",
    "encoder = preprocessing.LabelEncoder()\n",
    "encoder.fit(input_labels)\n",
    "\n",
    "encoded_values = encoder.transform(titanic_train['Sex'])\n",
    "\n",
    "titanic_train['Sex_encoded'] = encoded_values\n",
    "print(titanic_train[:10][['Sex' ,'Sex_encoded']])"
   ]
  },
  {
   "cell_type": "code",
   "execution_count": 221,
   "metadata": {},
   "outputs": [
    {
     "name": "stdout",
     "output_type": "stream",
     "text": [
      "adjusted R^2\n",
      "train : 0.370425\n",
      "test : 0.371552\n"
     ]
    }
   ],
   "source": [
    "# Sexの代わりにSex_encodedを用いモデルを作成し線形回帰を行うと次のようになる\n",
    "\n",
    "X = titanic_train[['PassengerId', \n",
    "                   'Pclass', \n",
    "                   #'Name', \n",
    "                   'Sex_encoded', \n",
    "                   #'Age', \n",
    "                   'SibSp', \n",
    "                   'Parch', \n",
    "                   #'Ticket', \n",
    "                   'Fare', \n",
    "                   #'Cabin', \n",
    "                   #'Embarked'\n",
    "                  ]]\n",
    "y = titanic_train[['Survived']]\n",
    "\n",
    "from sklearn.model_selection import train_test_split\n",
    "X_train, X_test, y_train, y_test = train_test_split(X, y, test_size=0.3, random_state=0)\n",
    "\n",
    "from sklearn.linear_model import LinearRegression\n",
    "lr = LinearRegression()\n",
    "lr.fit(X_train, y_train)\n",
    "\n",
    "def adjusted(score, n_sample, n_features):\n",
    "    adjusted_score = 1 - (1 - score) * ((n_sample - 1) / (n_sample - n_features - 1))\n",
    "    return adjusted_score\n",
    "\n",
    "print('adjusted R^2')\n",
    "print('train : %3f' % adjusted(lr.score(X_train, y_train), len(y_train),2))\n",
    "print('test : %3f' % adjusted(lr.score(X_test, y_test), len(y_test),2))"
   ]
  },
  {
   "cell_type": "code",
   "execution_count": 224,
   "metadata": {},
   "outputs": [
    {
     "data": {
      "text/plain": [
       "PassengerId      0\n",
       "Survived         0\n",
       "Pclass           0\n",
       "Name             0\n",
       "Sex              0\n",
       "Age            177\n",
       "SibSp            0\n",
       "Parch            0\n",
       "Ticket           0\n",
       "Fare             0\n",
       "Cabin          687\n",
       "Embarked         2\n",
       "dtype: int64"
      ]
     },
     "execution_count": 224,
     "metadata": {},
     "output_type": "execute_result"
    }
   ],
   "source": [
    "#欠損値を処理\n",
    "titanic_train.isnull().sum()\n"
   ]
  },
  {
   "cell_type": "code",
   "execution_count": 230,
   "metadata": {},
   "outputs": [
    {
     "data": {
      "text/plain": [
       "0      3.0\n",
       "1      1.0\n",
       "2      3.0\n",
       "3      3.0\n",
       "4      3.0\n",
       "5      2.0\n",
       "6      3.0\n",
       "7      3.0\n",
       "8      3.0\n",
       "9      1.0\n",
       "10     3.0\n",
       "11     3.0\n",
       "12     3.0\n",
       "13     3.0\n",
       "14     3.0\n",
       "15     3.0\n",
       "16     2.0\n",
       "17     3.0\n",
       "18     3.0\n",
       "19     1.0\n",
       "20     3.0\n",
       "21     3.0\n",
       "22     2.0\n",
       "23     3.0\n",
       "24     3.0\n",
       "25     3.0\n",
       "26     1.0\n",
       "27     3.0\n",
       "28     2.0\n",
       "29     3.0\n",
       "      ... \n",
       "861    3.0\n",
       "862    3.0\n",
       "863    3.0\n",
       "864    3.0\n",
       "865    3.0\n",
       "866    1.0\n",
       "867    3.0\n",
       "868    3.0\n",
       "869    3.0\n",
       "870    3.0\n",
       "871    3.0\n",
       "872    3.0\n",
       "873    3.0\n",
       "874    1.0\n",
       "875    1.0\n",
       "876    3.0\n",
       "877    3.0\n",
       "878    3.0\n",
       "879    1.0\n",
       "880    3.0\n",
       "881    3.0\n",
       "882    3.0\n",
       "883    3.0\n",
       "884    3.0\n",
       "885    2.0\n",
       "886    3.0\n",
       "887    3.0\n",
       "888    3.0\n",
       "889    1.0\n",
       "890    2.0\n",
       "Name: Embarked, Length: 891, dtype: float64"
      ]
     },
     "execution_count": 230,
     "metadata": {},
     "output_type": "execute_result"
    }
   ],
   "source": [
    "#Embarkedで欠損値を持っているのは２つのみなので、その２つを削除する。\n",
    "Embarked_mapping = {'C':1, 'Q':2, 'S':3}\n",
    "titanic_train['Embarked'] = titanic_train['Embarked'].map(Embarked_mapping)\n",
    "titanic_train['Embarked']"
   ]
  },
  {
   "cell_type": "code",
   "execution_count": null,
   "metadata": {},
   "outputs": [],
   "source": []
  },
  {
   "cell_type": "code",
   "execution_count": null,
   "metadata": {},
   "outputs": [],
   "source": []
  },
  {
   "cell_type": "code",
   "execution_count": null,
   "metadata": {
    "collapsed": true
   },
   "outputs": [],
   "source": []
  }
 ],
 "metadata": {
  "kernelspec": {
   "display_name": "Python 3",
   "language": "python",
   "name": "python3"
  },
  "language_info": {
   "codemirror_mode": {
    "name": "ipython",
    "version": 3
   },
   "file_extension": ".py",
   "mimetype": "text/x-python",
   "name": "python",
   "nbconvert_exporter": "python",
   "pygments_lexer": "ipython3",
   "version": "3.6.2"
  }
 },
 "nbformat": 4,
 "nbformat_minor": 2
}
